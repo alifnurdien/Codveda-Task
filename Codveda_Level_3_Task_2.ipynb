{
  "nbformat": 4,
  "nbformat_minor": 0,
  "metadata": {
    "colab": {
      "provenance": []
    },
    "kernelspec": {
      "name": "python3",
      "display_name": "Python 3"
    },
    "language_info": {
      "name": "python"
    }
  },
  "cells": [
    {
      "cell_type": "markdown",
      "source": [
        "## Task 2 (Natural Language Processing (NLP) - Text Classification"
      ],
      "metadata": {
        "id": "HsfATQMddW1I"
      }
    },
    {
      "cell_type": "markdown",
      "source": [
        "#### Import Libraries"
      ],
      "metadata": {
        "id": "xCyGcQMXdjVf"
      }
    },
    {
      "cell_type": "code",
      "source": [
        "import pandas as pd\n",
        "import numpy as np\n",
        "import nltk\n",
        "import string\n",
        "\n",
        "from sklearn.model_selection import train_test_split\n",
        "from sklearn.preprocessing import LabelEncoder\n",
        "from sklearn.feature_extraction.text import TfidfVectorizer\n",
        "from sklearn.naive_bayes import MultinomialNB\n",
        "from sklearn.linear_model import LogisticRegression\n",
        "from sklearn.metrics import classification_report, accuracy_score\n",
        "from nltk.stem import PorterStemmer"
      ],
      "metadata": {
        "id": "kxdJ_MORhihX"
      },
      "execution_count": null,
      "outputs": []
    },
    {
      "cell_type": "markdown",
      "source": [
        "#### Load Data"
      ],
      "metadata": {
        "id": "c8MFgPatdm5m"
      }
    },
    {
      "cell_type": "code",
      "execution_count": null,
      "metadata": {
        "colab": {
          "base_uri": "https://localhost:8080/"
        },
        "id": "M7aXJi7BdSzi",
        "outputId": "707e2402-9899-4b61-b481-0aadb337cb38"
      },
      "outputs": [
        {
          "output_type": "stream",
          "name": "stdout",
          "text": [
            "   Unnamed: 0.1  Unnamed: 0  \\\n",
            "0             0           0   \n",
            "1             1           1   \n",
            "2             2           2   \n",
            "3             3           3   \n",
            "4             4           4   \n",
            "\n",
            "                                                Text    Sentiment  \\\n",
            "0   Enjoying a beautiful day at the park!        ...   Positive     \n",
            "1   Traffic was terrible this morning.           ...   Negative     \n",
            "2   Just finished an amazing workout! 💪          ...   Positive     \n",
            "3   Excited about the upcoming weekend getaway!  ...   Positive     \n",
            "4   Trying out a new recipe for dinner tonight.  ...   Neutral      \n",
            "\n",
            "             Timestamp            User     Platform  \\\n",
            "0  2023-01-15 12:30:00   User123          Twitter     \n",
            "1  2023-01-15 08:45:00   CommuterX        Twitter     \n",
            "2  2023-01-15 15:45:00   FitnessFan      Instagram    \n",
            "3  2023-01-15 18:20:00   AdventureX       Facebook    \n",
            "4  2023-01-15 19:55:00   ChefCook        Instagram    \n",
            "\n",
            "                                     Hashtags  Retweets  Likes       Country  \\\n",
            "0   #Nature #Park                                  15.0   30.0     USA         \n",
            "1   #Traffic #Morning                               5.0   10.0     Canada      \n",
            "2   #Fitness #Workout                              20.0   40.0   USA           \n",
            "3   #Travel #Adventure                              8.0   15.0     UK          \n",
            "4   #Cooking #Food                                 12.0   25.0    Australia    \n",
            "\n",
            "   Year  Month  Day  Hour  \n",
            "0  2023      1   15    12  \n",
            "1  2023      1   15     8  \n",
            "2  2023      1   15    15  \n",
            "3  2023      1   15    18  \n",
            "4  2023      1   15    19  \n"
          ]
        }
      ],
      "source": [
        "data = pd.read_csv('3) Sentiment dataset.csv')\n",
        "print(data.head())"
      ]
    },
    {
      "cell_type": "markdown",
      "source": [
        "#### Preprocessing"
      ],
      "metadata": {
        "id": "YvcXAF9Ydopw"
      }
    },
    {
      "cell_type": "code",
      "source": [
        "stemmer = PorterStemmer()"
      ],
      "metadata": {
        "id": "c2aaymkGe2ov"
      },
      "execution_count": null,
      "outputs": []
    },
    {
      "cell_type": "markdown",
      "source": [
        "#### Removing Stopwords"
      ],
      "metadata": {
        "id": "ldbGl1GRpADv"
      }
    },
    {
      "cell_type": "code",
      "source": [
        "nltk.download('stopwords')\n",
        "stopwords = set(nltk.corpus.stopwords.words('english'))"
      ],
      "metadata": {
        "colab": {
          "base_uri": "https://localhost:8080/"
        },
        "id": "DHpNYoBXqYJ8",
        "outputId": "a2592f2f-5087-4306-9800-9b51b53b47d9"
      },
      "execution_count": null,
      "outputs": [
        {
          "output_type": "stream",
          "name": "stderr",
          "text": [
            "[nltk_data] Downloading package stopwords to /root/nltk_data...\n",
            "[nltk_data]   Package stopwords is already up-to-date!\n"
          ]
        }
      ]
    },
    {
      "cell_type": "code",
      "source": [
        "clean_texts = []\n",
        "\n",
        "for text in data['Text']:\n",
        "  text = str(text).lower()\n",
        "  text = text.translate(str.maketrans('','', string.punctuation))\n",
        "  tokens = text.split()\n",
        "  tokens = [word for word in tokens if word not in stopwords]\n",
        "  tokens = [stemmer.stem(word) for word in tokens]\n",
        "  clean_texts.append(\" \".join(tokens))\n",
        "\n",
        "data['Clean_text'] = clean_texts"
      ],
      "metadata": {
        "id": "NOKzF3jrqiCQ"
      },
      "execution_count": null,
      "outputs": []
    },
    {
      "cell_type": "markdown",
      "source": [
        "#### Label encoder"
      ],
      "metadata": {
        "id": "m0vM8-6gsEXr"
      }
    },
    {
      "cell_type": "code",
      "source": [
        "le = LabelEncoder()\n",
        "data['Sentiment'] = le.fit_transform(data['Sentiment'])"
      ],
      "metadata": {
        "id": "8W4ZV1gUu2Vk"
      },
      "execution_count": null,
      "outputs": []
    },
    {
      "cell_type": "markdown",
      "source": [
        "#### Splitting data"
      ],
      "metadata": {
        "id": "0-Js5hb7vC14"
      }
    },
    {
      "cell_type": "code",
      "source": [
        "X_train, X_test, y_train, y_test = train_test_split(data['Clean_text'], data['Sentiment'], test_size=0.2, random_state=42)"
      ],
      "metadata": {
        "id": "hzDL_LyvvEjL"
      },
      "execution_count": null,
      "outputs": []
    },
    {
      "cell_type": "code",
      "source": [
        "X_train"
      ],
      "metadata": {
        "colab": {
          "base_uri": "https://localhost:8080/",
          "height": 458
        },
        "id": "rbAHtsBYvqtn",
        "outputId": "48a3c5eb-5617-4ece-e109-3ab036afce91"
      },
      "execution_count": null,
      "outputs": [
        {
          "output_type": "execute_result",
          "data": {
            "text/plain": [
              "683    reflect challeng school year feel bit overwhel...\n",
              "250    stand tall proud oak branch achiev reach towar...\n",
              "336                 calm found rhythm raindrop windowpan\n",
              "260    unveil layer curios labyrinth question lead tr...\n",
              "439        heart ruin remnant shatter dream scatter wind\n",
              "                             ...                        \n",
              "71                         confus cloud mind navig decis\n",
              "106                    kind wit today restor faith human\n",
              "270    empathi lantern wander dark alley sorrow illum...\n",
              "435       emot exhaust weight world crush weari shoulder\n",
              "102                          feel bitter unfair workplac\n",
              "Name: Clean_text, Length: 585, dtype: object"
            ],
            "text/html": [
              "<div>\n",
              "<style scoped>\n",
              "    .dataframe tbody tr th:only-of-type {\n",
              "        vertical-align: middle;\n",
              "    }\n",
              "\n",
              "    .dataframe tbody tr th {\n",
              "        vertical-align: top;\n",
              "    }\n",
              "\n",
              "    .dataframe thead th {\n",
              "        text-align: right;\n",
              "    }\n",
              "</style>\n",
              "<table border=\"1\" class=\"dataframe\">\n",
              "  <thead>\n",
              "    <tr style=\"text-align: right;\">\n",
              "      <th></th>\n",
              "      <th>Clean_text</th>\n",
              "    </tr>\n",
              "  </thead>\n",
              "  <tbody>\n",
              "    <tr>\n",
              "      <th>683</th>\n",
              "      <td>reflect challeng school year feel bit overwhel...</td>\n",
              "    </tr>\n",
              "    <tr>\n",
              "      <th>250</th>\n",
              "      <td>stand tall proud oak branch achiev reach towar...</td>\n",
              "    </tr>\n",
              "    <tr>\n",
              "      <th>336</th>\n",
              "      <td>calm found rhythm raindrop windowpan</td>\n",
              "    </tr>\n",
              "    <tr>\n",
              "      <th>260</th>\n",
              "      <td>unveil layer curios labyrinth question lead tr...</td>\n",
              "    </tr>\n",
              "    <tr>\n",
              "      <th>439</th>\n",
              "      <td>heart ruin remnant shatter dream scatter wind</td>\n",
              "    </tr>\n",
              "    <tr>\n",
              "      <th>...</th>\n",
              "      <td>...</td>\n",
              "    </tr>\n",
              "    <tr>\n",
              "      <th>71</th>\n",
              "      <td>confus cloud mind navig decis</td>\n",
              "    </tr>\n",
              "    <tr>\n",
              "      <th>106</th>\n",
              "      <td>kind wit today restor faith human</td>\n",
              "    </tr>\n",
              "    <tr>\n",
              "      <th>270</th>\n",
              "      <td>empathi lantern wander dark alley sorrow illum...</td>\n",
              "    </tr>\n",
              "    <tr>\n",
              "      <th>435</th>\n",
              "      <td>emot exhaust weight world crush weari shoulder</td>\n",
              "    </tr>\n",
              "    <tr>\n",
              "      <th>102</th>\n",
              "      <td>feel bitter unfair workplac</td>\n",
              "    </tr>\n",
              "  </tbody>\n",
              "</table>\n",
              "<p>585 rows × 1 columns</p>\n",
              "</div><br><label><b>dtype:</b> object</label>"
            ]
          },
          "metadata": {},
          "execution_count": 11
        }
      ]
    },
    {
      "cell_type": "markdown",
      "source": [
        "#### TF-IDF"
      ],
      "metadata": {
        "id": "D9O1S7W3vhrp"
      }
    },
    {
      "cell_type": "code",
      "source": [
        "from sklearn.feature_extraction.text import TfidfVectorizer\n",
        "\n",
        "vectorizer = TfidfVectorizer()\n",
        "X_train_tfidf = vectorizer.fit_transform(X_train)\n",
        "X_test_tfidf = vectorizer.transform(X_test)"
      ],
      "metadata": {
        "id": "BNFpeE-RvjYO"
      },
      "execution_count": null,
      "outputs": []
    },
    {
      "cell_type": "markdown",
      "source": [
        "#### Train Naive Bayes"
      ],
      "metadata": {
        "id": "fpO_USEmx6dl"
      }
    },
    {
      "cell_type": "code",
      "source": [
        "nb = MultinomialNB()\n",
        "nb.fit(X_train_tfidf, y_train)\n",
        "nb_pred = nb.predict(X_test_tfidf)"
      ],
      "metadata": {
        "id": "r97U9ymTx9T5"
      },
      "execution_count": null,
      "outputs": []
    },
    {
      "cell_type": "markdown",
      "source": [
        "#### Train Logistic Regression"
      ],
      "metadata": {
        "id": "5AW7_IJIyF4n"
      }
    },
    {
      "cell_type": "code",
      "source": [
        "lr = LogisticRegression()\n",
        "lr.fit(X_train_tfidf, y_train)\n",
        "lr_pred = lr.predict(X_test_tfidf)"
      ],
      "metadata": {
        "id": "PxwGemowyJzu"
      },
      "execution_count": null,
      "outputs": []
    },
    {
      "cell_type": "markdown",
      "source": [
        "#### Evaluate Model"
      ],
      "metadata": {
        "id": "G889m4kPyRNA"
      }
    },
    {
      "cell_type": "code",
      "source": [
        "def evaluate_model(name, y_true, y_pred):\n",
        "    print(f\"\\n=== {name} ===\")\n",
        "    print(\"Accuracy:\", accuracy_score(y_true, y_pred))\n",
        "\n",
        "evaluate_model(\"Naive Bayes\", y_test, nb_pred)\n",
        "evaluate_model(\"Logistic Regression\", y_test, lr_pred)"
      ],
      "metadata": {
        "colab": {
          "base_uri": "https://localhost:8080/"
        },
        "id": "rDEFUZ1mzJon",
        "outputId": "f055dd34-9789-4510-8055-30dfe734b1f7"
      },
      "execution_count": null,
      "outputs": [
        {
          "output_type": "stream",
          "name": "stdout",
          "text": [
            "\n",
            "=== Naive Bayes ===\n",
            "Accuracy: 0.11564625850340136\n",
            "\n",
            "=== Logistic Regression ===\n",
            "Accuracy: 0.09523809523809523\n"
          ]
        }
      ]
    },
    {
      "cell_type": "code",
      "source": [
        "from sklearn.model_selection import GridSearchCV\n",
        "\n",
        "param_grid = {\n",
        "    'C': [0.01, 0.1, 1, 10],\n",
        "    'penalty': ['l2'],\n",
        "    'solver': ['liblinear', 'lbfgs']\n",
        "}\n",
        "\n",
        "grid = GridSearchCV(LogisticRegression(max_iter=1000), param_grid, cv=5, scoring='accuracy')\n",
        "grid.fit(X_train_tfidf, y_train)\n",
        "\n",
        "print(\"Best Score:\", grid.best_score_)\n",
        "print(\"Best Params:\", grid.best_params_)"
      ],
      "metadata": {
        "colab": {
          "base_uri": "https://localhost:8080/"
        },
        "id": "s8hkoUFx1OIm",
        "outputId": "d5a5530a-1399-4737-d42e-e94d2e72190a"
      },
      "execution_count": null,
      "outputs": [
        {
          "output_type": "stream",
          "name": "stderr",
          "text": [
            "/usr/local/lib/python3.11/dist-packages/sklearn/model_selection/_split.py:805: UserWarning: The least populated class in y has only 1 members, which is less than n_splits=5.\n",
            "  warnings.warn(\n"
          ]
        },
        {
          "output_type": "stream",
          "name": "stdout",
          "text": [
            "Best Score: 0.3128205128205128\n",
            "Best Params: {'C': 10, 'penalty': 'l2', 'solver': 'liblinear'}\n"
          ]
        }
      ]
    },
    {
      "cell_type": "markdown",
      "source": [
        "#### Why the accuracy score very low"
      ],
      "metadata": {
        "id": "vpnG7qlT2n6N"
      }
    },
    {
      "cell_type": "markdown",
      "source": [
        "The low accuracy can be caused by data imbalance. It can be seen that the types of classes in the sentiment column are too many and uneven in number. Thus, it can cause bias during the model building process.\n",
        "\n",
        "Some techniques that can be used to increase accuracy, such as:\n",
        "*   Use **stratified split**\n",
        "*   Apply balancing technique (undersampling, oversampling, or SMOTE)\n",
        "\n"
      ],
      "metadata": {
        "id": "hLyy7WUO5Pvx"
      }
    },
    {
      "cell_type": "code",
      "source": [
        "print(data['Sentiment'].value_counts())\n",
        "print(data['Sentiment'].unique())"
      ],
      "metadata": {
        "colab": {
          "base_uri": "https://localhost:8080/"
        },
        "id": "8Mv-fyVd463x",
        "outputId": "294413bb-9015-452d-831a-32547ff759eb"
      },
      "execution_count": null,
      "outputs": [
        {
          "output_type": "stream",
          "name": "stdout",
          "text": [
            "Sentiment\n",
            "positive                45\n",
            "joy                     44\n",
            "excitement              37\n",
            "contentment             19\n",
            "neutral                 18\n",
            "                        ..\n",
            "celestial wonder         1\n",
            "nature's beauty          1\n",
            "thrilling journey        1\n",
            "whispers of the past     1\n",
            "relief                   1\n",
            "Name: count, Length: 191, dtype: int64\n",
            "['positive' 'negative' 'neutral' 'anger' 'fear' 'sadness' 'disgust'\n",
            " 'happiness' 'joy' 'love' 'amusement' 'enjoyment' 'admiration' 'affection'\n",
            " 'awe' 'disappointed' 'surprise' 'acceptance' 'adoration' 'anticipation'\n",
            " 'bitter' 'calmness' 'confusion' 'excitement' 'kind' 'pride' 'shame'\n",
            " 'elation' 'euphoria' 'contentment' 'serenity' 'gratitude' 'hope'\n",
            " 'empowerment' 'compassion' 'tenderness' 'arousal' 'enthusiasm'\n",
            " 'fulfillment' 'reverence' 'despair' 'grief' 'loneliness' 'jealousy'\n",
            " 'resentment' 'frustration' 'boredom' 'anxiety' 'intimidation'\n",
            " 'helplessness' 'envy' 'regret' 'curiosity' 'indifference' 'numbness'\n",
            " 'melancholy' 'nostalgia' 'ambivalence' 'determination' 'zest' 'hopeful'\n",
            " 'proud' 'grateful' 'empathetic' 'compassionate' 'playful' 'free-spirited'\n",
            " 'inspired' 'confident' 'bitterness' 'yearning' 'fearful' 'apprehensive'\n",
            " 'overwhelmed' 'jealous' 'devastated' 'frustrated' 'envious' 'dismissive'\n",
            " 'thrill' 'bittersweet' 'overjoyed' 'inspiration' 'motivation'\n",
            " 'contemplation' 'joyfulreunion' 'satisfaction' 'blessed' 'reflection'\n",
            " 'appreciation' 'confidence' 'accomplishment' 'wonderment' 'optimism'\n",
            " 'enchantment' 'intrigue' 'playfuljoy' 'mindfulness' 'dreamchaser'\n",
            " 'elegance' 'whimsy' 'pensive' 'harmony' 'creativity' 'radiance' 'wonder'\n",
            " 'rejuvenation' 'coziness' 'adventure' 'melodic' 'festivejoy'\n",
            " 'innerjourney' 'freedom' 'dazzle' 'adrenaline' 'artisticburst'\n",
            " 'culinaryodyssey' 'resilience' 'immersion' 'spark' 'marvel' 'heartbreak'\n",
            " 'betrayal' 'suffering' 'emotionalstorm' 'isolation' 'disappointment'\n",
            " 'lostlove' 'exhaustion' 'sorrow' 'darkness' 'desperation' 'ruins'\n",
            " 'desolation' 'loss' 'heartache' 'solitude' 'positivity' 'kindness'\n",
            " 'friendship' 'success' 'exploration' 'amazement' 'romance' 'captivation'\n",
            " 'tranquility' 'grandeur' 'emotion' 'energy' 'celebration' 'charm'\n",
            " 'ecstasy' 'colorful' 'hypnotic' 'connection' 'iconic' 'journey'\n",
            " 'engagement' 'touched' 'suspense' 'triumph' 'heartwarming' 'obstacle'\n",
            " 'sympathy' 'pressure' 'renewed effort' 'miscalculation' 'challenge'\n",
            " 'solace' 'breakthrough' 'joy in baking' 'envisioning history'\n",
            " 'imagination' 'vibrancy' 'mesmerizing' 'culinary adventure'\n",
            " 'winter magic' 'thrilling journey' \"nature's beauty\" 'celestial wonder'\n",
            " 'creative inspiration' 'runway creativity' \"ocean's freedom\"\n",
            " 'whispers of the past' 'relief' 'embarrassed' 'mischievous' 'sad' 'hate'\n",
            " 'bad' 'happy']\n"
          ]
        }
      ]
    },
    {
      "cell_type": "code",
      "source": [
        "import matplotlib.pyplot as plt\n",
        "import seaborn as sns\n",
        "\n",
        "data['Sentiment'] = data['Sentiment'].str.strip()\n",
        "\n",
        "sentiment_counts = data['Sentiment'].value_counts()\n",
        "\n",
        "colors = sns.color_palette(\"coolwarm\", n_colors=len(sentiment_counts))\n",
        "\n",
        "plt.figure(figsize=(12, 6))\n",
        "ax = sns.countplot(data=data, x='Sentiment', order=sentiment_counts.index, palette=colors)\n",
        "plt.title('Sentiment Label Distribution')\n",
        "plt.xlabel('Sentimen')\n",
        "plt.ylabel('Jumlah')\n",
        "\n",
        "\n",
        "labels = sentiment_counts.index.tolist()\n",
        "interval = 5\n",
        "xtick_positions = list(range(0, len(labels), interval))\n",
        "xtick_labels = [labels[i] for i in xtick_positions]\n",
        "ax.set_xticks(xtick_positions)\n",
        "ax.set_xticklabels(xtick_labels, rotation=45)\n",
        "\n",
        "plt.tight_layout()\n",
        "plt.show()\n"
      ],
      "metadata": {
        "colab": {
          "base_uri": "https://localhost:8080/",
          "height": 694
        },
        "id": "xrFoqMCN4UAm",
        "outputId": "b1250b26-6f89-418d-928f-8415795e96c6"
      },
      "execution_count": null,
      "outputs": [
        {
          "output_type": "stream",
          "name": "stderr",
          "text": [
            "<ipython-input-31-364154283357>:12: FutureWarning: \n",
            "\n",
            "Passing `palette` without assigning `hue` is deprecated and will be removed in v0.14.0. Assign the `x` variable to `hue` and set `legend=False` for the same effect.\n",
            "\n",
            "  ax = sns.countplot(data=data, x='Sentiment', order=sentiment_counts.index, palette=colors)\n"
          ]
        },
        {
          "output_type": "display_data",
          "data": {
            "text/plain": [
              "<Figure size 1200x600 with 1 Axes>"
            ],
            "image/png": "[encoded data removed]"
          },
          "metadata": {}
        }
      ]
    }
  ]
}